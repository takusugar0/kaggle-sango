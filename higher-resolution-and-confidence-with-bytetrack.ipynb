{
 "cells": [
  {
   "cell_type": "markdown",
   "id": "ac50f381",
   "metadata": {
    "papermill": {
     "duration": 0.009062,
     "end_time": "2022-01-26T04:07:33.654154",
     "exception": false,
     "start_time": "2022-01-26T04:07:33.645092",
     "status": "completed"
    },
    "tags": []
   },
   "source": [
    "**This notebook is copy of this one https://www.kaggle.com/steamedsheep/yolov5-is-all-you-need \n",
    "I just changed the following parameters:size10000_conf0.015_augTrue_row.confidence0.28"
   ]
  },
  {
   "cell_type": "code",
   "execution_count": 1,
   "id": "389a88fa",
   "metadata": {
    "execution": {
     "iopub.execute_input": "2022-01-26T04:07:33.676251Z",
     "iopub.status.busy": "2022-01-26T04:07:33.674670Z",
     "iopub.status.idle": "2022-01-26T04:07:35.318003Z",
     "shell.execute_reply": "2022-01-26T04:07:35.316921Z",
     "shell.execute_reply.started": "2022-01-24T13:10:32.279424Z"
    },
    "papermill": {
     "duration": 1.655668,
     "end_time": "2022-01-26T04:07:35.318159",
     "exception": false,
     "start_time": "2022-01-26T04:07:33.662491",
     "status": "completed"
    },
    "tags": []
   },
   "outputs": [],
   "source": [
    "# This Python 3 environment comes with many helpful analytics libraries installed\n",
    "# It is defined by the kaggle/python Docker image: https://github.com/kaggle/docker-python\n",
    "# For example, here's several helpful packages to load\n",
    "\n",
    "import numpy as np # linear algebra\n",
    "import pandas as pd # data processing, CSV file I/O (e.g. pd.read_csv)\n",
    "import torch\n",
    "from tqdm import tqdm\n",
    "import sys\n",
    "\n",
    "sys.path.append('../input/tensorflow-great-barrier-reef')"
   ]
  },
  {
   "cell_type": "code",
   "execution_count": 2,
   "id": "ce4d20ad",
   "metadata": {
    "execution": {
     "iopub.execute_input": "2022-01-26T04:07:35.385473Z",
     "iopub.status.busy": "2022-01-26T04:07:35.375213Z",
     "iopub.status.idle": "2022-01-26T04:15:34.324849Z",
     "shell.execute_reply": "2022-01-26T04:15:34.325298Z",
     "shell.execute_reply.started": "2022-01-24T13:10:33.607349Z"
    },
    "papermill": {
     "duration": 478.997673,
     "end_time": "2022-01-26T04:15:34.325479",
     "exception": false,
     "start_time": "2022-01-26T04:07:35.327806",
     "status": "completed"
    },
    "tags": []
   },
   "outputs": [
    {
     "name": "stdout",
     "output_type": "stream",
     "text": [
      "Processing ./tmp/cython_bbox-0.1.3/cython_bbox-0.1.3\r\n",
      "  Preparing metadata (setup.py) ... \u001b[?25l-\b \b\\\b \bdone\r\n",
      "\u001b[?25hBuilding wheels for collected packages: cython-bbox\r\n",
      "  Building wheel for cython-bbox (setup.py) ... \u001b[?25l-\b \b\\\b \b|\b \bdone\r\n",
      "\u001b[?25h  Created wheel for cython-bbox: filename=cython_bbox-0.1.3-cp37-cp37m-linux_x86_64.whl size=65823 sha256=2a5598d09c58d555f8d90691a1a8c0b604c46700076a95d259c2482634e94109\r\n",
      "  Stored in directory: /root/.cache/pip/wheels/ec/69/93/ea052d39657fd8911ad47142ed6afc3a428f25fcd5bbb32a37\r\n",
      "Successfully built cython-bbox\r\n",
      "Installing collected packages: cython-bbox\r\n",
      "Successfully installed cython-bbox-0.1.3\r\n",
      "\u001b[33mWARNING: Running pip as the 'root' user can result in broken permissions and conflicting behaviour with the system package manager. It is recommended to use a virtual environment instead: https://pip.pypa.io/warnings/venv\u001b[0m\r\n",
      "Processing ./tmp/lap-0.4.0/lap-0.4.0\r\n",
      "  Preparing metadata (setup.py) ... \u001b[?25l-\b \bdone\r\n",
      "\u001b[?25hBuilding wheels for collected packages: lap\r\n",
      "  Building wheel for lap (setup.py) ... \u001b[?25l-\b \b\\\b \b|\b \b/\b \b-\b \b\\\b \b|\b \bdone\r\n",
      "\u001b[?25h  Created wheel for lap: filename=lap-0.4.0-cp37-cp37m-linux_x86_64.whl size=1665858 sha256=b0019f45b4c663a4d838d9c04e13a9b0437ef5b4082fe0caafc2693d9d668c47\r\n",
      "  Stored in directory: /root/.cache/pip/wheels/ab/56/26/a595b29ccd56562a0164b761247c235eccd88e9b838e99d481\r\n",
      "Successfully built lap\r\n",
      "Installing collected packages: lap\r\n",
      "Successfully installed lap-0.4.0\r\n",
      "\u001b[33mWARNING: Running pip as the 'root' user can result in broken permissions and conflicting behaviour with the system package manager. It is recommended to use a virtual environment instead: https://pip.pypa.io/warnings/venv\u001b[0m\r\n",
      "Processing ./tmp/loguru-0.5.3-py3-none-any.whl\r\n",
      "Installing collected packages: loguru\r\n",
      "Successfully installed loguru-0.5.3\r\n",
      "\u001b[33mWARNING: Running pip as the 'root' user can result in broken permissions and conflicting behaviour with the system package manager. It is recommended to use a virtual environment instead: https://pip.pypa.io/warnings/venv\u001b[0m\r\n",
      "Processing ./tmp/ninja-1.10.2.2-py2.py3-none-manylinux_2_5_x86_64.manylinux1_x86_64.whl\r\n",
      "Installing collected packages: ninja\r\n",
      "Successfully installed ninja-1.10.2.2\r\n",
      "\u001b[33mWARNING: Running pip as the 'root' user can result in broken permissions and conflicting behaviour with the system package manager. It is recommended to use a virtual environment instead: https://pip.pypa.io/warnings/venv\u001b[0m\r\n",
      "Processing ./tmp/thop-0.0.31.post2005241907-py3-none-any.whl\r\n",
      "Requirement already satisfied: torch>=1.0.0 in /opt/conda/lib/python3.7/site-packages (from thop==0.0.31.post2005241907) (1.9.1)\r\n",
      "Requirement already satisfied: typing-extensions in /opt/conda/lib/python3.7/site-packages (from torch>=1.0.0->thop==0.0.31.post2005241907) (3.10.0.2)\r\n",
      "Installing collected packages: thop\r\n",
      "Successfully installed thop-0.0.31.post2005241907\r\n",
      "\u001b[33mWARNING: Running pip as the 'root' user can result in broken permissions and conflicting behaviour with the system package manager. It is recommended to use a virtual environment instead: https://pip.pypa.io/warnings/venv\u001b[0m\r\n",
      "Processing ./tmp/pycocotools-2.0.2/dist/pycocotools-2.0.2.tar\r\n",
      "  Preparing metadata (setup.py) ... \u001b[?25l-\b \bdone\r\n",
      "\u001b[?25hRequirement already satisfied: setuptools>=18.0 in /opt/conda/lib/python3.7/site-packages (from pycocotools==2.0.2) (59.1.1)\r\n",
      "Requirement already satisfied: cython>=0.27.3 in /opt/conda/lib/python3.7/site-packages (from pycocotools==2.0.2) (0.29.24)\r\n",
      "Requirement already satisfied: matplotlib>=2.1.0 in /opt/conda/lib/python3.7/site-packages (from pycocotools==2.0.2) (3.5.0)\r\n",
      "Requirement already satisfied: numpy>=1.17 in /opt/conda/lib/python3.7/site-packages (from matplotlib>=2.1.0->pycocotools==2.0.2) (1.19.5)\r\n",
      "Requirement already satisfied: cycler>=0.10 in /opt/conda/lib/python3.7/site-packages (from matplotlib>=2.1.0->pycocotools==2.0.2) (0.11.0)\r\n",
      "Requirement already satisfied: pyparsing>=2.2.1 in /opt/conda/lib/python3.7/site-packages (from matplotlib>=2.1.0->pycocotools==2.0.2) (3.0.6)\r\n",
      "Requirement already satisfied: kiwisolver>=1.0.1 in /opt/conda/lib/python3.7/site-packages (from matplotlib>=2.1.0->pycocotools==2.0.2) (1.3.2)\r\n",
      "Requirement already satisfied: pillow>=6.2.0 in /opt/conda/lib/python3.7/site-packages (from matplotlib>=2.1.0->pycocotools==2.0.2) (8.2.0)\r\n",
      "Requirement already satisfied: setuptools-scm>=4 in /opt/conda/lib/python3.7/site-packages (from matplotlib>=2.1.0->pycocotools==2.0.2) (6.3.2)\r\n",
      "Requirement already satisfied: packaging>=20.0 in /opt/conda/lib/python3.7/site-packages (from matplotlib>=2.1.0->pycocotools==2.0.2) (21.0)\r\n",
      "Requirement already satisfied: fonttools>=4.22.0 in /opt/conda/lib/python3.7/site-packages (from matplotlib>=2.1.0->pycocotools==2.0.2) (4.28.2)\r\n",
      "Requirement already satisfied: python-dateutil>=2.7 in /opt/conda/lib/python3.7/site-packages (from matplotlib>=2.1.0->pycocotools==2.0.2) (2.8.0)\r\n",
      "Requirement already satisfied: six>=1.5 in /opt/conda/lib/python3.7/site-packages (from python-dateutil>=2.7->matplotlib>=2.1.0->pycocotools==2.0.2) (1.16.0)\r\n",
      "Requirement already satisfied: tomli>=1.0.0 in /opt/conda/lib/python3.7/site-packages (from setuptools-scm>=4->matplotlib>=2.1.0->pycocotools==2.0.2) (1.2.2)\r\n",
      "Building wheels for collected packages: pycocotools\r\n",
      "  Building wheel for pycocotools (setup.py) ... \u001b[?25l-\b \b\\\b \b|\b \b/\b \b-\b \b\\\b \bdone\r\n",
      "\u001b[?25h  Created wheel for pycocotools: filename=pycocotools-2.0.2-cp37-cp37m-linux_x86_64.whl size=369132 sha256=686bd523e0e33a2b939e22e5c96e3545d1ebdd356bdfb709a3a24639abd77821\r\n",
      "  Stored in directory: /root/.cache/pip/wheels/a6/ee/cc/67380646b802d0c967a0dbb8d95094b344b2a996de85adaf53\r\n",
      "Successfully built pycocotools\r\n",
      "Installing collected packages: pycocotools\r\n",
      "Successfully installed pycocotools-2.0.2\r\n",
      "\u001b[33mWARNING: Running pip as the 'root' user can result in broken permissions and conflicting behaviour with the system package manager. It is recommended to use a virtual environment instead: https://pip.pypa.io/warnings/venv\u001b[0m\r\n",
      "Processing ./tmp/onnx-1.8.0-cp37-cp37m-manylinux2010_x86_64.whl\r\n",
      "Requirement already satisfied: typing-extensions>=3.6.2.1 in /opt/conda/lib/python3.7/site-packages (from onnx==1.8.0) (3.10.0.2)\r\n",
      "Requirement already satisfied: numpy in /opt/conda/lib/python3.7/site-packages (from onnx==1.8.0) (1.19.5)\r\n",
      "Requirement already satisfied: six in /opt/conda/lib/python3.7/site-packages (from onnx==1.8.0) (1.16.0)\r\n",
      "Requirement already satisfied: protobuf in /opt/conda/lib/python3.7/site-packages (from onnx==1.8.0) (3.19.1)\r\n",
      "Installing collected packages: onnx\r\n",
      "Successfully installed onnx-1.8.0\r\n",
      "\u001b[33mWARNING: Running pip as the 'root' user can result in broken permissions and conflicting behaviour with the system package manager. It is recommended to use a virtual environment instead: https://pip.pypa.io/warnings/venv\u001b[0m\r\n",
      "Processing ./tmp/onnxoptimizer-0.2.6-cp37-cp37m-manylinux2014_x86_64.whl\r\n",
      "Requirement already satisfied: onnx in /opt/conda/lib/python3.7/site-packages (from onnxoptimizer==0.2.6) (1.8.0)\r\n",
      "Requirement already satisfied: six in /opt/conda/lib/python3.7/site-packages (from onnx->onnxoptimizer==0.2.6) (1.16.0)\r\n",
      "Requirement already satisfied: protobuf in /opt/conda/lib/python3.7/site-packages (from onnx->onnxoptimizer==0.2.6) (3.19.1)\r\n",
      "Requirement already satisfied: typing-extensions>=3.6.2.1 in /opt/conda/lib/python3.7/site-packages (from onnx->onnxoptimizer==0.2.6) (3.10.0.2)\r\n",
      "Requirement already satisfied: numpy in /opt/conda/lib/python3.7/site-packages (from onnx->onnxoptimizer==0.2.6) (1.19.5)\r\n",
      "Installing collected packages: onnxoptimizer\r\n",
      "Successfully installed onnxoptimizer-0.2.6\r\n",
      "\u001b[33mWARNING: Running pip as the 'root' user can result in broken permissions and conflicting behaviour with the system package manager. It is recommended to use a virtual environment instead: https://pip.pypa.io/warnings/venv\u001b[0m\r\n",
      "Processing ./tmp/onnx-simplifier-0.3.5/onnx-simplifier-0.3.5\r\n",
      "  Preparing metadata (setup.py) ... \u001b[?25l-\b \bdone\r\n",
      "\u001b[?25hRequirement already satisfied: onnx in /opt/conda/lib/python3.7/site-packages (from onnx-simplifier==0.3.5) (1.8.0)\r\n",
      "Requirement already satisfied: onnxoptimizer>=0.2.5 in /opt/conda/lib/python3.7/site-packages (from onnx-simplifier==0.3.5) (0.2.6)\r\n",
      "\u001b[33mWARNING: Retrying (Retry(total=4, connect=None, read=None, redirect=None, status=None)) after connection broken by 'NewConnectionError('<pip._vendor.urllib3.connection.HTTPSConnection object at 0x7fc8ee8734d0>: Failed to establish a new connection: [Errno -3] Temporary failure in name resolution')': /simple/onnxruntime/\u001b[0m\r\n",
      "\u001b[33mWARNING: Retrying (Retry(total=3, connect=None, read=None, redirect=None, status=None)) after connection broken by 'NewConnectionError('<pip._vendor.urllib3.connection.HTTPSConnection object at 0x7fc8ee80d790>: Failed to establish a new connection: [Errno -3] Temporary failure in name resolution')': /simple/onnxruntime/\u001b[0m\r\n",
      "\u001b[33mWARNING: Retrying (Retry(total=2, connect=None, read=None, redirect=None, status=None)) after connection broken by 'NewConnectionError('<pip._vendor.urllib3.connection.HTTPSConnection object at 0x7fc8ee80dad0>: Failed to establish a new connection: [Errno -3] Temporary failure in name resolution')': /simple/onnxruntime/\u001b[0m\r\n",
      "\u001b[33mWARNING: Retrying (Retry(total=1, connect=None, read=None, redirect=None, status=None)) after connection broken by 'NewConnectionError('<pip._vendor.urllib3.connection.HTTPSConnection object at 0x7fc8ee80de10>: Failed to establish a new connection: [Errno -3] Temporary failure in name resolution')': /simple/onnxruntime/\u001b[0m\r\n",
      "\u001b[33mWARNING: Retrying (Retry(total=0, connect=None, read=None, redirect=None, status=None)) after connection broken by 'NewConnectionError('<pip._vendor.urllib3.connection.HTTPSConnection object at 0x7fc8ee81d190>: Failed to establish a new connection: [Errno -3] Temporary failure in name resolution')': /simple/onnxruntime/\u001b[0m\r\n",
      "\u001b[31mERROR: Could not find a version that satisfies the requirement onnxruntime>=1.6.0 (from onnx-simplifier) (from versions: none)\u001b[0m\r\n",
      "\u001b[31mERROR: No matching distribution found for onnxruntime>=1.6.0\u001b[0m\r\n",
      "Processing ./tmp/pycocotools-2.0.2/dist/pycocotools-2.0.2.tar\r\n",
      "  Preparing metadata (setup.py) ... \u001b[?25l-\b \bdone\r\n",
      "\u001b[?25hRequirement already satisfied: setuptools>=18.0 in /opt/conda/lib/python3.7/site-packages (from pycocotools==2.0.2) (59.1.1)\r\n",
      "Requirement already satisfied: cython>=0.27.3 in /opt/conda/lib/python3.7/site-packages (from pycocotools==2.0.2) (0.29.24)\r\n",
      "Requirement already satisfied: matplotlib>=2.1.0 in /opt/conda/lib/python3.7/site-packages (from pycocotools==2.0.2) (3.5.0)\r\n",
      "Requirement already satisfied: cycler>=0.10 in /opt/conda/lib/python3.7/site-packages (from matplotlib>=2.1.0->pycocotools==2.0.2) (0.11.0)\r\n",
      "Requirement already satisfied: kiwisolver>=1.0.1 in /opt/conda/lib/python3.7/site-packages (from matplotlib>=2.1.0->pycocotools==2.0.2) (1.3.2)\r\n",
      "Requirement already satisfied: python-dateutil>=2.7 in /opt/conda/lib/python3.7/site-packages (from matplotlib>=2.1.0->pycocotools==2.0.2) (2.8.0)\r\n",
      "Requirement already satisfied: numpy>=1.17 in /opt/conda/lib/python3.7/site-packages (from matplotlib>=2.1.0->pycocotools==2.0.2) (1.19.5)\r\n",
      "Requirement already satisfied: packaging>=20.0 in /opt/conda/lib/python3.7/site-packages (from matplotlib>=2.1.0->pycocotools==2.0.2) (21.0)\r\n",
      "Requirement already satisfied: pyparsing>=2.2.1 in /opt/conda/lib/python3.7/site-packages (from matplotlib>=2.1.0->pycocotools==2.0.2) (3.0.6)\r\n",
      "Requirement already satisfied: setuptools-scm>=4 in /opt/conda/lib/python3.7/site-packages (from matplotlib>=2.1.0->pycocotools==2.0.2) (6.3.2)\r\n",
      "Requirement already satisfied: pillow>=6.2.0 in /opt/conda/lib/python3.7/site-packages (from matplotlib>=2.1.0->pycocotools==2.0.2) (8.2.0)\r\n",
      "Requirement already satisfied: fonttools>=4.22.0 in /opt/conda/lib/python3.7/site-packages (from matplotlib>=2.1.0->pycocotools==2.0.2) (4.28.2)\r\n",
      "Requirement already satisfied: six>=1.5 in /opt/conda/lib/python3.7/site-packages (from python-dateutil>=2.7->matplotlib>=2.1.0->pycocotools==2.0.2) (1.16.0)\r\n",
      "Requirement already satisfied: tomli>=1.0.0 in /opt/conda/lib/python3.7/site-packages (from setuptools-scm>=4->matplotlib>=2.1.0->pycocotools==2.0.2) (1.2.2)\r\n",
      "Building wheels for collected packages: pycocotools\r\n",
      "  Building wheel for pycocotools (setup.py) ... \u001b[?25l-\b \b\\\b \b|\b \b/\b \b-\b \b\\\b \bdone\r\n",
      "\u001b[?25h  Created wheel for pycocotools: filename=pycocotools-2.0.2-cp37-cp37m-linux_x86_64.whl size=369134 sha256=6661dbbc7d7c698d8022f78d0d48d3e95519b76f9c8fe00cdc9691d6f6c0e502\r\n",
      "  Stored in directory: /root/.cache/pip/wheels/a6/ee/cc/67380646b802d0c967a0dbb8d95094b344b2a996de85adaf53\r\n",
      "Successfully built pycocotools\r\n",
      "Installing collected packages: pycocotools\r\n",
      "  Attempting uninstall: pycocotools\r\n",
      "    Found existing installation: pycocotools 2.0.2\r\n",
      "    Uninstalling pycocotools-2.0.2:\r\n",
      "      Successfully uninstalled pycocotools-2.0.2\r\n",
      "Successfully installed pycocotools-2.0.2\r\n",
      "\u001b[33mWARNING: Running pip as the 'root' user can result in broken permissions and conflicting behaviour with the system package manager. It is recommended to use a virtual environment instead: https://pip.pypa.io/warnings/venv\u001b[0m\r\n",
      "/kaggle/working\n",
      "/kaggle/working/ByteTrack\n",
      "Obtaining file:///kaggle/working/ByteTrack\r\n",
      "  Preparing metadata (setup.py) ... \u001b[?25l-\b \b\\\b \bdone\r\n",
      "\u001b[?25hInstalling collected packages: yolox\r\n",
      "  Running setup.py develop for yolox\r\n",
      "Successfully installed yolox-0.1.0\r\n",
      "\u001b[33mWARNING: Running pip as the 'root' user can result in broken permissions and conflicting behaviour with the system package manager. It is recommended to use a virtual environment instead: https://pip.pypa.io/warnings/venv\u001b[0m\r\n",
      "/kaggle/working\n"
     ]
    }
   ],
   "source": [
    "!cp -r /kaggle/input/bytetrack /kaggle/working/tmp/\n",
    "!pip install /kaggle/working/tmp/cython_bbox-0.1.3/cython_bbox-0.1.3\n",
    "\n",
    "!pip install /kaggle/working/tmp/lap-0.4.0/lap-0.4.0\n",
    "!pip install /kaggle/working/tmp/loguru-0.5.3-py3-none-any.whl\n",
    "!pip install /kaggle/working/tmp/ninja-1.10.2.2-py2.py3-none-manylinux_2_5_x86_64.manylinux1_x86_64.whl\n",
    "!pip install /kaggle/working/tmp/thop-0.0.31.post2005241907-py3-none-any.whl\n",
    "!pip install /kaggle/working/tmp/pycocotools-2.0.2/dist/pycocotools-2.0.2.tar\n",
    "\n",
    "!pip install /kaggle/working/tmp/onnx-1.8.0-cp37-cp37m-manylinux2010_x86_64.whl\n",
    "!pip install /kaggle/working/tmp/onnxoptimizer-0.2.6-cp37-cp37m-manylinux2014_x86_64.whl\n",
    "!pip install /kaggle/working/tmp/onnx-simplifier-0.3.5/onnx-simplifier-0.3.5\n",
    "\n",
    "# !pip install /kaggle/working/tmp/flake8_import_order-0.18.1-py2.py3-none-any.whl\n",
    "# !pip install /kaggle/working/tmp/xmltodict-0.12.0-py2.py3-none-any.whl\n",
    "# !pip install /kaggle/working/tmp/importlib_metadata-4.2.0-py3-none-any.whl\n",
    "# !pip install /kaggle/working/tmp/py-cpuinfo-8.0.0/dist/py-cpuinfo-8.0.0.tar\n",
    "# !pip install /kaggle/working/tmp/pytest_benchmark-3.4.1-py2.py3-none-any.whl\n",
    "# !pip install /kaggle/working/tmp/motmetrics-1.2.0-py3-none-any.whl\n",
    "\n",
    "!pip install /kaggle/working/tmp/pycocotools-2.0.2/dist/pycocotools-2.0.2.tar\n",
    "\n",
    "\n",
    "%cd /kaggle/working\n",
    "!cp -r ../input/bytetrack/ByteTrack /kaggle/working/\n",
    "%cd /kaggle/working/ByteTrack\n",
    "!pip install -e . --no-deps\n",
    "%cd /kaggle/working/"
   ]
  },
  {
   "cell_type": "code",
   "execution_count": 3,
   "id": "5da85de0",
   "metadata": {
    "execution": {
     "iopub.execute_input": "2022-01-26T04:15:34.391827Z",
     "iopub.status.busy": "2022-01-26T04:15:34.391012Z",
     "iopub.status.idle": "2022-01-26T04:15:35.126743Z",
     "shell.execute_reply": "2022-01-26T04:15:35.125845Z",
     "shell.execute_reply.started": "2022-01-24T13:18:29.125197Z"
    },
    "papermill": {
     "duration": 0.770935,
     "end_time": "2022-01-26T04:15:35.126881",
     "exception": false,
     "start_time": "2022-01-26T04:15:34.355946",
     "status": "completed"
    },
    "tags": []
   },
   "outputs": [],
   "source": [
    "sys.path.append('../input/bytetrack/ByteTrack')\n",
    "from ByteTrack.yolox.tracker.byte_tracker import BYTETracker"
   ]
  },
  {
   "cell_type": "code",
   "execution_count": 4,
   "id": "9aeb354f",
   "metadata": {
    "execution": {
     "iopub.execute_input": "2022-01-26T04:15:35.193699Z",
     "iopub.status.busy": "2022-01-26T04:15:35.192892Z",
     "iopub.status.idle": "2022-01-26T04:15:35.195527Z",
     "shell.execute_reply": "2022-01-26T04:15:35.195086Z",
     "shell.execute_reply.started": "2022-01-24T13:18:30.016996Z"
    },
    "papermill": {
     "duration": 0.037754,
     "end_time": "2022-01-26T04:15:35.195640",
     "exception": false,
     "start_time": "2022-01-26T04:15:35.157886",
     "status": "completed"
    },
    "tags": []
   },
   "outputs": [],
   "source": [
    "#######################################################\n",
    "#                      Tracking                       #\n",
    "#######################################################\n",
    "\n",
    "# Tracker will update tracks based on detections from current frame\n",
    "# Matching based on euclidean distance between bbox centers of detections \n",
    "# from current frame and tracked_objects based on previous frames\n",
    "\n",
    "class args:\n",
    "    det_thresh = 0.20\n",
    "    track_thresh = 0.10\n",
    "    track_buffer = 30\n",
    "    mot20 = False\n",
    "    match_thresh = 0.3\n",
    "#     aspect_ratio_thresh = 1.6\n",
    "    min_box_area = 1000\n",
    "    \n",
    "tracker = BYTETracker(args)\n",
    "\n",
    "# Save frame_id into detection to know which tracks have no detections on current frame\n",
    "frame_id = 0\n",
    "#######################################################"
   ]
  },
  {
   "cell_type": "code",
   "execution_count": 5,
   "id": "c13778c5",
   "metadata": {
    "execution": {
     "iopub.execute_input": "2022-01-26T04:15:35.261798Z",
     "iopub.status.busy": "2022-01-26T04:15:35.261244Z",
     "iopub.status.idle": "2022-01-26T04:15:35.526663Z",
     "shell.execute_reply": "2022-01-26T04:15:35.526206Z",
     "shell.execute_reply.started": "2022-01-24T13:18:30.032141Z"
    },
    "papermill": {
     "duration": 0.300055,
     "end_time": "2022-01-26T04:15:35.526782",
     "exception": false,
     "start_time": "2022-01-26T04:15:35.226727",
     "status": "completed"
    },
    "tags": []
   },
   "outputs": [],
   "source": [
    "!mkdir -p /root/.config/Ultralytics\n",
    "!cp /kaggle/input/yolov5-font/Arial.ttf /root/.config/Ultralytics/"
   ]
  },
  {
   "cell_type": "code",
   "execution_count": 6,
   "id": "e8cca0fe",
   "metadata": {
    "execution": {
     "iopub.execute_input": "2022-01-26T04:15:35.592334Z",
     "iopub.status.busy": "2022-01-26T04:15:35.591844Z",
     "iopub.status.idle": "2022-01-26T04:15:35.613371Z",
     "shell.execute_reply": "2022-01-26T04:15:35.613807Z",
     "shell.execute_reply.started": "2022-01-24T13:18:30.307265Z"
    },
    "papermill": {
     "duration": 0.056547,
     "end_time": "2022-01-26T04:15:35.613935",
     "exception": false,
     "start_time": "2022-01-26T04:15:35.557388",
     "status": "completed"
    },
    "tags": []
   },
   "outputs": [],
   "source": [
    "import greatbarrierreef\n",
    "env = greatbarrierreef.make_env()# initialize the environment\n",
    "iter_test = env.iter_test()      # an iterator which loops over the test set and sample submission"
   ]
  },
  {
   "cell_type": "code",
   "execution_count": 7,
   "id": "ae59c351",
   "metadata": {
    "execution": {
     "iopub.execute_input": "2022-01-26T04:15:35.679218Z",
     "iopub.status.busy": "2022-01-26T04:15:35.678559Z",
     "iopub.status.idle": "2022-01-26T04:15:46.499480Z",
     "shell.execute_reply": "2022-01-26T04:15:46.499044Z",
     "shell.execute_reply.started": "2022-01-24T13:18:30.334352Z"
    },
    "papermill": {
     "duration": 10.855001,
     "end_time": "2022-01-26T04:15:46.499609",
     "exception": false,
     "start_time": "2022-01-26T04:15:35.644608",
     "status": "completed"
    },
    "tags": []
   },
   "outputs": [
    {
     "name": "stderr",
     "output_type": "stream",
     "text": [
      "YOLOv5 🚀 2022-1-18 torch 1.9.1 CUDA:0 (Tesla P100-PCIE-16GB, 16281MiB)\n",
      "\n",
      "Fusing layers... \n",
      "Model Summary: 280 layers, 12308200 parameters, 0 gradients, 16.2 GFLOPs\n",
      "Adding AutoShape... \n"
     ]
    }
   ],
   "source": [
    "model = torch.hub.load('../input/yolov5-lib-ds', \n",
    "                       'custom', \n",
    "                       path='../input/reef-baseline-fold12/l6_3600_uflip_vm5_f12_up/f1/best.pt',\n",
    "                       source='local',\n",
    "                       force_reload=True)  # local repo\n",
    "model.conf = 0.20\n",
    "IMG_SIZE = 3600"
   ]
  },
  {
   "cell_type": "markdown",
   "id": "efa3771a",
   "metadata": {
    "papermill": {
     "duration": 0.031579,
     "end_time": "2022-01-26T04:15:46.563034",
     "exception": false,
     "start_time": "2022-01-26T04:15:46.531455",
     "status": "completed"
    },
    "tags": []
   },
   "source": []
  },
  {
   "cell_type": "code",
   "execution_count": 8,
   "id": "592f6a5d",
   "metadata": {
    "execution": {
     "iopub.execute_input": "2022-01-26T04:15:46.638576Z",
     "iopub.status.busy": "2022-01-26T04:15:46.637798Z",
     "iopub.status.idle": "2022-01-26T04:15:47.347743Z",
     "shell.execute_reply": "2022-01-26T04:15:47.346441Z",
     "shell.execute_reply.started": "2022-01-24T13:18:40.955501Z"
    },
    "papermill": {
     "duration": 0.753402,
     "end_time": "2022-01-26T04:15:47.347875",
     "exception": false,
     "start_time": "2022-01-26T04:15:46.594473",
     "status": "completed"
    },
    "tags": []
   },
   "outputs": [
    {
     "name": "stderr",
     "output_type": "stream",
     "text": [
      "0it [00:00, ?it/s]"
     ]
    },
    {
     "name": "stdout",
     "output_type": "stream",
     "text": [
      "This version of the API is not optimized and should not be used to estimate the runtime of your code on the hidden test set.\n"
     ]
    },
    {
     "name": "stderr",
     "output_type": "stream",
     "text": [
      "2it [00:00,  3.88it/s]"
     ]
    },
    {
     "name": "stdout",
     "output_type": "stream",
     "text": [
      "Prediction: \n",
      "Prediction: \n"
     ]
    },
    {
     "name": "stderr",
     "output_type": "stream",
     "text": [
      "3it [00:00,  4.29it/s]"
     ]
    },
    {
     "name": "stdout",
     "output_type": "stream",
     "text": [
      "Prediction: \n"
     ]
    },
    {
     "name": "stderr",
     "output_type": "stream",
     "text": [
      "\n"
     ]
    }
   ],
   "source": [
    "for idx, (img, pred_df) in enumerate(tqdm(iter_test)):\n",
    "    anno = ''\n",
    "    height, width = img.shape[0], img.shape[1]\n",
    "    r = model(img, size=IMG_SIZE, augment=False)\n",
    "    detects = []\n",
    "    if r.pandas().xyxy[0].shape[0] == 0:\n",
    "        anno = ''\n",
    "    else:\n",
    "        for idx, row in r.pandas().xyxy[0].iterrows():\n",
    "            if row.confidence > 0.28:\n",
    "                anno += '{} {} {} {} {} '.format(row.confidence, int(row.xmin), int(row.ymin), int(row.xmax-row.xmin), int(row.ymax-row.ymin))\n",
    "#                 pred.append([row.confidence, row.xmin, row.ymin, row.xmax-row.xmin, row.ymax-row.ymin])\n",
    "                detects.append([int(row.xmin), int(row.ymin), int(row.xmax), int(row.ymax), row.confidence])\n",
    "\n",
    "    #######################################################\n",
    "    #                      Tracking                       #\n",
    "    #######################################################\n",
    "    \n",
    "    # Update tracks using detects from current frame\n",
    "    if len(detects):\n",
    "        tracked_objects = tracker.update(np.array(detects), np.array([height, width, frame_id]), np.array([IMG_SIZE, IMG_SIZE]))\n",
    "        for tobj in tracked_objects:\n",
    "            # Add objects that have no detections on current frame to predictions\n",
    "            tlwh = tobj.tlwh\n",
    "            if tlwh[2] * tlwh[3] > args.min_box_area:\n",
    "                x_min = int(tlwh[0])\n",
    "                y_min = int(tlwh[1])\n",
    "                bbox_width = int(tlwh[2])\n",
    "                bbox_height = int(tlwh[3])\n",
    "#                 preds.append([x_min, y_min, bbox_width, bbox_height])\n",
    "                score = tobj.score\n",
    "                anno += '{} {} {} {} {} '.format(score, x_min, y_min, bbox_width, bbox_height)\n",
    "    #         preds.append('{:.2f} {} {} {} {}'.format(score, x_min, y_min, bbox_width, bbox_height))\n",
    "        #######################################################    \n",
    "            \n",
    "    pred_df['annotations'] = anno.strip(' ')\n",
    "    env.predict(pred_df)\n",
    "    print('Prediction:', anno.strip(' '))\n",
    "#     frame_id += 1"
   ]
  },
  {
   "cell_type": "code",
   "execution_count": null,
   "id": "4e3feaec",
   "metadata": {
    "papermill": {
     "duration": 0.034045,
     "end_time": "2022-01-26T04:15:47.416788",
     "exception": false,
     "start_time": "2022-01-26T04:15:47.382743",
     "status": "completed"
    },
    "tags": []
   },
   "outputs": [],
   "source": []
  }
 ],
 "metadata": {
  "kernelspec": {
   "display_name": "Python 3",
   "language": "python",
   "name": "python3"
  },
  "language_info": {
   "codemirror_mode": {
    "name": "ipython",
    "version": 3
   },
   "file_extension": ".py",
   "mimetype": "text/x-python",
   "name": "python",
   "nbconvert_exporter": "python",
   "pygments_lexer": "ipython3",
   "version": "3.7.12"
  },
  "papermill": {
   "default_parameters": {},
   "duration": 503.307991,
   "end_time": "2022-01-26T04:15:48.563617",
   "environment_variables": {},
   "exception": null,
   "input_path": "__notebook__.ipynb",
   "output_path": "__notebook__.ipynb",
   "parameters": {},
   "start_time": "2022-01-26T04:07:25.255626",
   "version": "2.3.3"
  }
 },
 "nbformat": 4,
 "nbformat_minor": 5
}
