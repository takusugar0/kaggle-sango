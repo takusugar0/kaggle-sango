{
 "cells": [
  {
   "cell_type": "raw",
   "id": "9bf54fd6",
   "metadata": {
    "papermill": {
     "duration": 0.010815,
     "end_time": "2022-01-24T00:47:42.621026",
     "exception": false,
     "start_time": "2022-01-24T00:47:42.610211",
     "status": "completed"
    },
    "tags": []
   },
   "source": [
    "**This notebook is copy of this one https://www.kaggle.com/steamedsheep/yolov5-is-all-you-need \n",
    "I just changed the following parameters:size10000_conf0.015_augTrue_row.confidence0.28"
   ]
  },
  {
   "cell_type": "code",
   "execution_count": 1,
   "id": "fd113a35",
   "metadata": {
    "execution": {
     "iopub.execute_input": "2022-01-24T00:47:42.653456Z",
     "iopub.status.busy": "2022-01-24T00:47:42.652833Z",
     "iopub.status.idle": "2022-01-24T00:47:44.083039Z",
     "shell.execute_reply": "2022-01-24T00:47:44.082178Z",
     "shell.execute_reply.started": "2022-01-21T14:19:44.62365Z"
    },
    "papermill": {
     "duration": 1.450972,
     "end_time": "2022-01-24T00:47:44.083199",
     "exception": false,
     "start_time": "2022-01-24T00:47:42.632227",
     "status": "completed"
    },
    "tags": []
   },
   "outputs": [],
   "source": [
    "# This Python 3 environment comes with many helpful analytics libraries installed\n",
    "# It is defined by the kaggle/python Docker image: https://github.com/kaggle/docker-python\n",
    "# For example, here's several helpful packages to load\n",
    "\n",
    "import numpy as np # linear algebra\n",
    "import pandas as pd # data processing, CSV file I/O (e.g. pd.read_csv)\n",
    "import torch\n",
    "from tqdm import tqdm\n",
    "import sys\n",
    "\n",
    "sys.path.append('../input/tensorflow-great-barrier-reef')"
   ]
  },
  {
   "cell_type": "code",
   "execution_count": 2,
   "id": "30e3ce59",
   "metadata": {
    "execution": {
     "iopub.execute_input": "2022-01-24T00:47:44.126307Z",
     "iopub.status.busy": "2022-01-24T00:47:44.125774Z",
     "iopub.status.idle": "2022-01-24T00:48:58.367196Z",
     "shell.execute_reply": "2022-01-24T00:48:58.366680Z",
     "shell.execute_reply.started": "2022-01-21T14:19:45.85317Z"
    },
    "papermill": {
     "duration": 74.274566,
     "end_time": "2022-01-24T00:48:58.367333",
     "exception": false,
     "start_time": "2022-01-24T00:47:44.092767",
     "status": "completed"
    },
    "tags": []
   },
   "outputs": [
    {
     "name": "stdout",
     "output_type": "stream",
     "text": [
      "/kaggle/input/norfair031py3\n",
      "Looking in links: ./\r\n",
      "Processing ./commonmark-0.9.1-py2.py3-none-any.whl\r\n",
      "Installing collected packages: commonmark\r\n",
      "Successfully installed commonmark-0.9.1\r\n",
      "\u001b[33mWARNING: Running pip as the 'root' user can result in broken permissions and conflicting behaviour with the system package manager. It is recommended to use a virtual environment instead: https://pip.pypa.io/warnings/venv\u001b[0m\r\n",
      "Processing ./rich-9.13.0-py3-none-any.whl\r\n",
      "Requirement already satisfied: pygments<3.0.0,>=2.6.0 in /opt/conda/lib/python3.7/site-packages (from rich==9.13.0) (2.10.0)\r\n",
      "Requirement already satisfied: colorama<0.5.0,>=0.4.0 in /opt/conda/lib/python3.7/site-packages (from rich==9.13.0) (0.4.4)\r\n",
      "Requirement already satisfied: typing-extensions<4.0.0,>=3.7.4 in /opt/conda/lib/python3.7/site-packages (from rich==9.13.0) (3.10.0.2)\r\n",
      "Requirement already satisfied: commonmark<0.10.0,>=0.9.0 in /opt/conda/lib/python3.7/site-packages (from rich==9.13.0) (0.9.1)\r\n",
      "Installing collected packages: rich\r\n",
      "Successfully installed rich-9.13.0\r\n",
      "\u001b[33mWARNING: Running pip as the 'root' user can result in broken permissions and conflicting behaviour with the system package manager. It is recommended to use a virtual environment instead: https://pip.pypa.io/warnings/venv\u001b[0m\r\n",
      "/kaggle/working/tmp/filterpy-1.4.5\n",
      "Processing /kaggle/working/tmp/filterpy-1.4.5\r\n",
      "  Preparing metadata (setup.py) ... \u001b[?25l-\b \bdone\r\n",
      "\u001b[?25hRequirement already satisfied: numpy in /opt/conda/lib/python3.7/site-packages (from filterpy==1.4.5) (1.19.5)\r\n",
      "Requirement already satisfied: scipy in /opt/conda/lib/python3.7/site-packages (from filterpy==1.4.5) (1.7.2)\r\n",
      "Requirement already satisfied: matplotlib in /opt/conda/lib/python3.7/site-packages (from filterpy==1.4.5) (3.5.0)\r\n",
      "Requirement already satisfied: pillow>=6.2.0 in /opt/conda/lib/python3.7/site-packages (from matplotlib->filterpy==1.4.5) (8.2.0)\r\n",
      "Requirement already satisfied: packaging>=20.0 in /opt/conda/lib/python3.7/site-packages (from matplotlib->filterpy==1.4.5) (21.0)\r\n",
      "Requirement already satisfied: cycler>=0.10 in /opt/conda/lib/python3.7/site-packages (from matplotlib->filterpy==1.4.5) (0.11.0)\r\n",
      "Requirement already satisfied: kiwisolver>=1.0.1 in /opt/conda/lib/python3.7/site-packages (from matplotlib->filterpy==1.4.5) (1.3.2)\r\n",
      "Requirement already satisfied: python-dateutil>=2.7 in /opt/conda/lib/python3.7/site-packages (from matplotlib->filterpy==1.4.5) (2.8.0)\r\n",
      "Requirement already satisfied: setuptools-scm>=4 in /opt/conda/lib/python3.7/site-packages (from matplotlib->filterpy==1.4.5) (6.3.2)\r\n",
      "Requirement already satisfied: fonttools>=4.22.0 in /opt/conda/lib/python3.7/site-packages (from matplotlib->filterpy==1.4.5) (4.28.2)\r\n",
      "Requirement already satisfied: pyparsing>=2.2.1 in /opt/conda/lib/python3.7/site-packages (from matplotlib->filterpy==1.4.5) (3.0.6)\r\n",
      "Requirement already satisfied: six>=1.5 in /opt/conda/lib/python3.7/site-packages (from python-dateutil>=2.7->matplotlib->filterpy==1.4.5) (1.16.0)\r\n",
      "Requirement already satisfied: tomli>=1.0.0 in /opt/conda/lib/python3.7/site-packages (from setuptools-scm>=4->matplotlib->filterpy==1.4.5) (1.2.2)\r\n",
      "Requirement already satisfied: setuptools in /opt/conda/lib/python3.7/site-packages (from setuptools-scm>=4->matplotlib->filterpy==1.4.5) (59.1.1)\r\n",
      "Building wheels for collected packages: filterpy\r\n",
      "  Building wheel for filterpy (setup.py) ... \u001b[?25l-\b \b\\\b \bdone\r\n",
      "\u001b[?25h  Created wheel for filterpy: filename=filterpy-1.4.5-py3-none-any.whl size=110474 sha256=e2965a31829d0f135396987c9b9e855644bd9d81689e984fd7eabe1a84e5cfec\r\n",
      "  Stored in directory: /root/.cache/pip/wheels/0e/ba/6d/20557ee403bc0c849d9fe3b358ded9918d7d2b0c5b0253fc99\r\n",
      "Successfully built filterpy\r\n",
      "Installing collected packages: filterpy\r\n",
      "Successfully installed filterpy-1.4.5\r\n",
      "\u001b[33mWARNING: Running pip as the 'root' user can result in broken permissions and conflicting behaviour with the system package manager. It is recommended to use a virtual environment instead: https://pip.pypa.io/warnings/venv\u001b[0m\r\n",
      "/kaggle/input/norfair031py3\n",
      "Looking in links: ./\r\n",
      "Processing ./norfair-0.3.1-py3-none-any.whl\r\n",
      "Requirement already satisfied: rich<10.0.0,>=9.10.0 in /opt/conda/lib/python3.7/site-packages (from norfair==0.3.1) (9.13.0)\r\n",
      "Requirement already satisfied: filterpy<2.0.0,>=1.4.5 in /opt/conda/lib/python3.7/site-packages (from norfair==0.3.1) (1.4.5)\r\n",
      "Requirement already satisfied: matplotlib in /opt/conda/lib/python3.7/site-packages (from filterpy<2.0.0,>=1.4.5->norfair==0.3.1) (3.5.0)\r\n",
      "Requirement already satisfied: scipy in /opt/conda/lib/python3.7/site-packages (from filterpy<2.0.0,>=1.4.5->norfair==0.3.1) (1.7.2)\r\n",
      "Requirement already satisfied: numpy in /opt/conda/lib/python3.7/site-packages (from filterpy<2.0.0,>=1.4.5->norfair==0.3.1) (1.19.5)\r\n",
      "Requirement already satisfied: typing-extensions<4.0.0,>=3.7.4 in /opt/conda/lib/python3.7/site-packages (from rich<10.0.0,>=9.10.0->norfair==0.3.1) (3.10.0.2)\r\n",
      "Requirement already satisfied: colorama<0.5.0,>=0.4.0 in /opt/conda/lib/python3.7/site-packages (from rich<10.0.0,>=9.10.0->norfair==0.3.1) (0.4.4)\r\n",
      "Requirement already satisfied: pygments<3.0.0,>=2.6.0 in /opt/conda/lib/python3.7/site-packages (from rich<10.0.0,>=9.10.0->norfair==0.3.1) (2.10.0)\r\n",
      "Requirement already satisfied: commonmark<0.10.0,>=0.9.0 in /opt/conda/lib/python3.7/site-packages (from rich<10.0.0,>=9.10.0->norfair==0.3.1) (0.9.1)\r\n",
      "Requirement already satisfied: packaging>=20.0 in /opt/conda/lib/python3.7/site-packages (from matplotlib->filterpy<2.0.0,>=1.4.5->norfair==0.3.1) (21.0)\r\n",
      "Requirement already satisfied: fonttools>=4.22.0 in /opt/conda/lib/python3.7/site-packages (from matplotlib->filterpy<2.0.0,>=1.4.5->norfair==0.3.1) (4.28.2)\r\n",
      "Requirement already satisfied: setuptools-scm>=4 in /opt/conda/lib/python3.7/site-packages (from matplotlib->filterpy<2.0.0,>=1.4.5->norfair==0.3.1) (6.3.2)\r\n",
      "Requirement already satisfied: pyparsing>=2.2.1 in /opt/conda/lib/python3.7/site-packages (from matplotlib->filterpy<2.0.0,>=1.4.5->norfair==0.3.1) (3.0.6)\r\n",
      "Requirement already satisfied: kiwisolver>=1.0.1 in /opt/conda/lib/python3.7/site-packages (from matplotlib->filterpy<2.0.0,>=1.4.5->norfair==0.3.1) (1.3.2)\r\n",
      "Requirement already satisfied: pillow>=6.2.0 in /opt/conda/lib/python3.7/site-packages (from matplotlib->filterpy<2.0.0,>=1.4.5->norfair==0.3.1) (8.2.0)\r\n",
      "Requirement already satisfied: python-dateutil>=2.7 in /opt/conda/lib/python3.7/site-packages (from matplotlib->filterpy<2.0.0,>=1.4.5->norfair==0.3.1) (2.8.0)\r\n",
      "Requirement already satisfied: cycler>=0.10 in /opt/conda/lib/python3.7/site-packages (from matplotlib->filterpy<2.0.0,>=1.4.5->norfair==0.3.1) (0.11.0)\r\n",
      "Requirement already satisfied: six>=1.5 in /opt/conda/lib/python3.7/site-packages (from python-dateutil>=2.7->matplotlib->filterpy<2.0.0,>=1.4.5->norfair==0.3.1) (1.16.0)\r\n",
      "Requirement already satisfied: tomli>=1.0.0 in /opt/conda/lib/python3.7/site-packages (from setuptools-scm>=4->matplotlib->filterpy<2.0.0,>=1.4.5->norfair==0.3.1) (1.2.2)\r\n",
      "Requirement already satisfied: setuptools in /opt/conda/lib/python3.7/site-packages (from setuptools-scm>=4->matplotlib->filterpy<2.0.0,>=1.4.5->norfair==0.3.1) (59.1.1)\r\n",
      "Installing collected packages: norfair\r\n",
      "Successfully installed norfair-0.3.1\r\n",
      "\u001b[33mWARNING: Running pip as the 'root' user can result in broken permissions and conflicting behaviour with the system package manager. It is recommended to use a virtual environment instead: https://pip.pypa.io/warnings/venv\u001b[0m\r\n"
     ]
    }
   ],
   "source": [
    "# norfair dependencies\n",
    "%cd /kaggle/input/norfair031py3/\n",
    "!pip install commonmark-0.9.1-py2.py3-none-any.whl -f ./ --no-index\n",
    "!pip install rich-9.13.0-py3-none-any.whl\n",
    "\n",
    "!mkdir /kaggle/working/tmp\n",
    "!cp -r /kaggle/input/norfair031py3/filterpy-1.4.5/filterpy-1.4.5/ /kaggle/working/tmp/\n",
    "%cd /kaggle/working/tmp/filterpy-1.4.5/\n",
    "!pip install .\n",
    "!rm -rf /kaggle/working/tmp\n",
    "\n",
    "# norfair\n",
    "%cd /kaggle/input/norfair031py3/\n",
    "!pip install norfair-0.3.1-py3-none-any.whl -f ./ --no-index"
   ]
  },
  {
   "cell_type": "code",
   "execution_count": 3,
   "id": "078f59e3",
   "metadata": {
    "execution": {
     "iopub.execute_input": "2022-01-24T00:48:58.405303Z",
     "iopub.status.busy": "2022-01-24T00:48:58.402391Z",
     "iopub.status.idle": "2022-01-24T00:48:59.722624Z",
     "shell.execute_reply": "2022-01-24T00:48:59.722126Z",
     "shell.execute_reply.started": "2022-01-21T14:21:01.024673Z"
    },
    "papermill": {
     "duration": 1.33904,
     "end_time": "2022-01-24T00:48:59.722766",
     "exception": false,
     "start_time": "2022-01-24T00:48:58.383726",
     "status": "completed"
    },
    "tags": []
   },
   "outputs": [],
   "source": [
    "!mkdir -p /root/.config/Ultralytics\n",
    "!cp /kaggle/input/yolov5-font/Arial.ttf /root/.config/Ultralytics/"
   ]
  },
  {
   "cell_type": "code",
   "execution_count": 4,
   "id": "27c810f2",
   "metadata": {
    "execution": {
     "iopub.execute_input": "2022-01-24T00:48:59.759357Z",
     "iopub.status.busy": "2022-01-24T00:48:59.758851Z",
     "iopub.status.idle": "2022-01-24T00:48:59.793672Z",
     "shell.execute_reply": "2022-01-24T00:48:59.793270Z",
     "shell.execute_reply.started": "2022-01-21T14:21:02.519118Z"
    },
    "papermill": {
     "duration": 0.054788,
     "end_time": "2022-01-24T00:48:59.793812",
     "exception": false,
     "start_time": "2022-01-24T00:48:59.739024",
     "status": "completed"
    },
    "tags": []
   },
   "outputs": [],
   "source": [
    "import greatbarrierreef\n",
    "env = greatbarrierreef.make_env()# initialize the environment\n",
    "iter_test = env.iter_test()      # an iterator which loops over the test set and sample submission"
   ]
  },
  {
   "cell_type": "code",
   "execution_count": 5,
   "id": "12f7e44e",
   "metadata": {
    "execution": {
     "iopub.execute_input": "2022-01-24T00:48:59.829611Z",
     "iopub.status.busy": "2022-01-24T00:48:59.829115Z",
     "iopub.status.idle": "2022-01-24T00:49:06.294318Z",
     "shell.execute_reply": "2022-01-24T00:49:06.294703Z",
     "shell.execute_reply.started": "2022-01-21T14:21:02.564733Z"
    },
    "papermill": {
     "duration": 6.485135,
     "end_time": "2022-01-24T00:49:06.294877",
     "exception": false,
     "start_time": "2022-01-24T00:48:59.809742",
     "status": "completed"
    },
    "tags": []
   },
   "outputs": [
    {
     "name": "stderr",
     "output_type": "stream",
     "text": [
      "YOLOv5 🚀 2022-1-18 torch 1.9.1 CUDA:0 (Tesla P100-PCIE-16GB, 16281MiB)\n",
      "\n",
      "Fusing layers... \n",
      "Model Summary: 280 layers, 12308200 parameters, 0 gradients\n",
      "Adding AutoShape... \n"
     ]
    }
   ],
   "source": [
    "model = torch.hub.load('/kaggle/input/yolov5-lib-ds', \n",
    "                       'custom', \n",
    "                       path='/kaggle/input/reef-baseline-fold12/l6_3600_uflip_vm5_f12_up/f1/best.pt',\n",
    "                       source='local',\n",
    "                       force_reload=True)  # local repo\n",
    "model.conf = 0.20"
   ]
  },
  {
   "cell_type": "code",
   "execution_count": 6,
   "id": "e1ffecbe",
   "metadata": {
    "execution": {
     "iopub.execute_input": "2022-01-24T00:49:06.336180Z",
     "iopub.status.busy": "2022-01-24T00:49:06.334958Z",
     "iopub.status.idle": "2022-01-24T00:49:06.338640Z",
     "shell.execute_reply": "2022-01-24T00:49:06.338238Z",
     "shell.execute_reply.started": "2022-01-21T14:21:08.973995Z"
    },
    "papermill": {
     "duration": 0.026567,
     "end_time": "2022-01-24T00:49:06.338764",
     "exception": false,
     "start_time": "2022-01-24T00:49:06.312197",
     "status": "completed"
    },
    "tags": []
   },
   "outputs": [
    {
     "name": "stdout",
     "output_type": "stream",
     "text": [
      "/kaggle/working\n"
     ]
    }
   ],
   "source": [
    "%cd /kaggle/working/"
   ]
  },
  {
   "cell_type": "code",
   "execution_count": 7,
   "id": "0ba78477",
   "metadata": {
    "execution": {
     "iopub.execute_input": "2022-01-24T00:49:06.380154Z",
     "iopub.status.busy": "2022-01-24T00:49:06.379345Z",
     "iopub.status.idle": "2022-01-24T00:49:06.426740Z",
     "shell.execute_reply": "2022-01-24T00:49:06.426343Z",
     "shell.execute_reply.started": "2022-01-21T14:21:08.98277Z"
    },
    "papermill": {
     "duration": 0.070906,
     "end_time": "2022-01-24T00:49:06.426882",
     "exception": false,
     "start_time": "2022-01-24T00:49:06.355976",
     "status": "completed"
    },
    "tags": []
   },
   "outputs": [],
   "source": [
    "##############################################################\n",
    "#                      Tracking helpers                      #\n",
    "##############################################################\n",
    "\n",
    "import numpy as np\n",
    "from norfair import Detection, Tracker\n",
    "\n",
    "# Helper to convert bbox in format [x_min, y_min, x_max, y_max, score] to norfair.Detection class\n",
    "def to_norfair(detects, frame_id):\n",
    "    result = []\n",
    "    for x_min, y_min, x_max, y_max, score in detects:\n",
    "        xc, yc = (x_min + x_max) / 2, (y_min + y_max) / 2\n",
    "        w, h = x_max - x_min, y_max - y_min\n",
    "        result.append(Detection(points=np.array([xc, yc]), scores=np.array([score]), data=np.array([w, h, frame_id])))\n",
    "        \n",
    "    return result\n",
    "\n",
    "# Euclidean distance function to match detections on this frame with tracked_objects from previous frames\n",
    "def euclidean_distance(detection, tracked_object):\n",
    "    return np.linalg.norm(detection.points - tracked_object.estimate)"
   ]
  },
  {
   "cell_type": "code",
   "execution_count": 8,
   "id": "51572df6",
   "metadata": {
    "execution": {
     "iopub.execute_input": "2022-01-24T00:49:06.465811Z",
     "iopub.status.busy": "2022-01-24T00:49:06.465038Z",
     "iopub.status.idle": "2022-01-24T00:49:06.467087Z",
     "shell.execute_reply": "2022-01-24T00:49:06.467458Z",
     "shell.execute_reply.started": "2022-01-21T14:21:09.062739Z"
    },
    "papermill": {
     "duration": 0.023539,
     "end_time": "2022-01-24T00:49:06.467577",
     "exception": false,
     "start_time": "2022-01-24T00:49:06.444038",
     "status": "completed"
    },
    "tags": []
   },
   "outputs": [],
   "source": [
    "#######################################################\n",
    "#                      Tracking                       #\n",
    "#######################################################\n",
    "\n",
    "# Tracker will update tracks based on detections from current frame\n",
    "# Matching based on euclidean distance between bbox centers of detections \n",
    "# from current frame and tracked_objects based on previous frames\n",
    "# You can check it's parameters in norfair docs\n",
    "# https://github.com/tryolabs/norfair/blob/master/docs/README.md\n",
    "tracker = Tracker(\n",
    "    distance_function=euclidean_distance, \n",
    "    distance_threshold=30,\n",
    "    hit_inertia_min=3,\n",
    "    hit_inertia_max=6,\n",
    "    initialization_delay=1,\n",
    ")\n",
    "\n",
    "# Save frame_id into detection to know which tracks have no detections on current frame\n",
    "frame_id = 0\n",
    "#######################################################"
   ]
  },
  {
   "cell_type": "markdown",
   "id": "b9dfcb4e",
   "metadata": {
    "papermill": {
     "duration": 0.016955,
     "end_time": "2022-01-24T00:49:06.501845",
     "exception": false,
     "start_time": "2022-01-24T00:49:06.484890",
     "status": "completed"
    },
    "tags": []
   },
   "source": []
  },
  {
   "cell_type": "code",
   "execution_count": null,
   "id": "691bbb44",
   "metadata": {
    "papermill": {
     "duration": 0.017126,
     "end_time": "2022-01-24T00:49:06.536112",
     "exception": false,
     "start_time": "2022-01-24T00:49:06.518986",
     "status": "completed"
    },
    "tags": []
   },
   "outputs": [],
   "source": []
  },
  {
   "cell_type": "code",
   "execution_count": 9,
   "id": "85633901",
   "metadata": {
    "execution": {
     "iopub.execute_input": "2022-01-24T00:49:06.580936Z",
     "iopub.status.busy": "2022-01-24T00:49:06.580199Z",
     "iopub.status.idle": "2022-01-24T00:49:15.607847Z",
     "shell.execute_reply": "2022-01-24T00:49:15.608685Z",
     "shell.execute_reply.started": "2022-01-21T14:21:09.069899Z"
    },
    "papermill": {
     "duration": 9.055777,
     "end_time": "2022-01-24T00:49:15.608967",
     "exception": false,
     "start_time": "2022-01-24T00:49:06.553190",
     "status": "completed"
    },
    "tags": []
   },
   "outputs": [
    {
     "name": "stderr",
     "output_type": "stream",
     "text": [
      "0it [00:00, ?it/s]"
     ]
    },
    {
     "name": "stdout",
     "output_type": "stream",
     "text": [
      "This version of the API is not optimized and should not be used to estimate the runtime of your code on the hidden test set.\n"
     ]
    },
    {
     "name": "stderr",
     "output_type": "stream",
     "text": [
      "1it [00:06,  6.35s/it]"
     ]
    },
    {
     "name": "stdout",
     "output_type": "stream",
     "text": [
      "Prediction: \n"
     ]
    },
    {
     "name": "stderr",
     "output_type": "stream",
     "text": [
      "2it [00:07,  3.43s/it]"
     ]
    },
    {
     "name": "stdout",
     "output_type": "stream",
     "text": [
      "Prediction: 0.6144994497299194 302 556 63 53\n"
     ]
    },
    {
     "name": "stderr",
     "output_type": "stream",
     "text": [
      "3it [00:09,  3.00s/it]"
     ]
    },
    {
     "name": "stdout",
     "output_type": "stream",
     "text": [
      "Prediction: 0.32583317160606384 298 564 62 50\n"
     ]
    },
    {
     "name": "stderr",
     "output_type": "stream",
     "text": [
      "\n"
     ]
    }
   ],
   "source": [
    "for idx, (img, pred_df) in enumerate(tqdm(iter_test)):\n",
    "    anno = ''\n",
    "    detects = []\n",
    "    r = model(img, size=10000, augment=True)\n",
    "    if r.pandas().xyxy[0].shape[0] == 0:\n",
    "        anno = ''\n",
    "    else:\n",
    "        for idx, row in r.pandas().xyxy[0].iterrows():\n",
    "            if row.confidence > 0.28:\n",
    "                anno += '{} {} {} {} {} '.format(row.confidence, int(row.xmin), int(row.ymin), int(row.xmax-row.xmin), int(row.ymax-row.ymin))\n",
    "                detects.append([int(row.xmin), int(row.ymin), int(row.xmax), int(row.ymax), row.confidence])\n",
    "#                 pred.append([row.confidence, row.xmin, row.ymin, row.xmax-row.xmin, row.ymax-row.ymin])\n",
    "    #######################################################\n",
    "    #                      Tracking                       #\n",
    "    #######################################################\n",
    "    \n",
    "    # Update tracks using detects from current frame\n",
    "    tracked_objects = tracker.update(detections=to_norfair(detects, frame_id))\n",
    "    for tobj in tracked_objects:\n",
    "        bbox_width, bbox_height, last_detected_frame_id = tobj.last_detection.data\n",
    "        if last_detected_frame_id == frame_id:  # Skip objects that were detected on current frame\n",
    "            continue\n",
    "        # Add objects that have no detections on current frame to predictions\n",
    "        xc, yc = tobj.estimate[0]\n",
    "        x_min, y_min = int(round(xc - bbox_width / 2)), int(round(yc - bbox_height / 2))\n",
    "        score = tobj.last_detection.scores[0]\n",
    "        anno += '{} {} {} {} {} '.format(score, x_min, y_min, bbox_width, bbox_height)\n",
    "\n",
    "#         pred.append('{:.2f} {} {} {} {}'.format(score, x_min, y_min, bbox_width, bbox_height))\n",
    "    #######################################################\n",
    "    pred_df['annotations'] = anno.strip(' ')\n",
    "    env.predict(pred_df)\n",
    "    \n",
    "    print('Prediction:', anno.strip(' '))\n",
    "    frame_id += 1"
   ]
  },
  {
   "cell_type": "code",
   "execution_count": 10,
   "id": "473b89ff",
   "metadata": {
    "execution": {
     "iopub.execute_input": "2022-01-24T00:49:15.689393Z",
     "iopub.status.busy": "2022-01-24T00:49:15.687167Z",
     "iopub.status.idle": "2022-01-24T00:49:15.690430Z",
     "shell.execute_reply": "2022-01-24T00:49:15.691137Z",
     "shell.execute_reply.started": "2022-01-21T14:21:16.319743Z"
    },
    "papermill": {
     "duration": 0.044748,
     "end_time": "2022-01-24T00:49:15.691330",
     "exception": false,
     "start_time": "2022-01-24T00:49:15.646582",
     "status": "completed"
    },
    "tags": []
   },
   "outputs": [],
   "source": [
    "# sub_df = pd.read_csv('submission.csv')\n",
    "# sub_df.head()"
   ]
  },
  {
   "cell_type": "code",
   "execution_count": null,
   "id": "1f84ac63",
   "metadata": {
    "papermill": {
     "duration": 0.01957,
     "end_time": "2022-01-24T00:49:15.746164",
     "exception": false,
     "start_time": "2022-01-24T00:49:15.726594",
     "status": "completed"
    },
    "tags": []
   },
   "outputs": [],
   "source": []
  }
 ],
 "metadata": {
  "kernelspec": {
   "display_name": "Python 3",
   "language": "python",
   "name": "python3"
  },
  "language_info": {
   "codemirror_mode": {
    "name": "ipython",
    "version": 3
   },
   "file_extension": ".py",
   "mimetype": "text/x-python",
   "name": "python",
   "nbconvert_exporter": "python",
   "pygments_lexer": "ipython3",
   "version": "3.7.12"
  },
  "papermill": {
   "default_parameters": {},
   "duration": 102.853334,
   "end_time": "2022-01-24T00:49:17.076431",
   "environment_variables": {},
   "exception": null,
   "input_path": "__notebook__.ipynb",
   "output_path": "__notebook__.ipynb",
   "parameters": {},
   "start_time": "2022-01-24T00:47:34.223097",
   "version": "2.3.3"
  }
 },
 "nbformat": 4,
 "nbformat_minor": 5
}
